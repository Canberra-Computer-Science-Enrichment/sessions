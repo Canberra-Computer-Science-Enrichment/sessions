{
 "cells": [
  {
   "cell_type": "markdown",
   "metadata": {},
   "source": [
    "# Programming Game AI with Halite"
   ]
  },
  {
   "cell_type": "markdown",
   "metadata": {},
   "source": [
    "[Halite](https://halite.io/) is a game in which you control a fleet of ships which fly around the galaxy to collect the rare mineral 'halite'. \n",
    "\n",
    "![Example halite game](https://www.googleapis.com/download/storage/v1/b/kaggle-user-content/o/inbox%2F3258%2F73a73a0b4a807a7a9e674a40c55f7396%2Fhalite.gif?generation=1594994852379393&alt=media)\n",
    "\n",
    "The [Halite page on Kaggle](https://www.kaggle.com/c/halite) is the definitive source for the rules of the game and the [Halite SDK](https://www.kaggle.com/sam/halite-sdk-overview) that we'll use to program bots to play the game.\n",
    "\n",
    "First, set up an environment to test our Halite bots:"
   ]
  },
  {
   "cell_type": "code",
   "execution_count": null,
   "metadata": {},
   "outputs": [],
   "source": [
    "# Set Up Environment\n",
    "from kaggle_environments import evaluate, make\n",
    "env = make(\"halite\", configuration={ \"episodeSteps\": 400 }, debug=True)\n",
    "print (env.configuration)\n",
    "\n",
    "# Imports helper functions\n",
    "from kaggle_environments.envs.halite.helpers import *"
   ]
  },
  {
   "cell_type": "markdown",
   "metadata": {},
   "source": [
    "Now we'll create the world's worst bot: each ships takes no action at all. This is achieved by setting the ship's action to `None`."
   ]
  },
  {
   "cell_type": "code",
   "execution_count": null,
   "metadata": {},
   "outputs": [],
   "source": [
    "%%writefile nullbot.py\n",
    "from kaggle_environments.envs.halite.helpers import *\n",
    "# Returns the commands we send to our ships and shipyards\n",
    "def agent(obs, config):\n",
    "    board = Board(obs, config)\n",
    "    me = board.current_player\n",
    "    \n",
    "    for ship in me.ships:\n",
    "        ship.next_action = None\n",
    "                \n",
    "    return me.next_actions"
   ]
  },
  {
   "cell_type": "markdown",
   "metadata": {},
   "source": [
    "Let's see that bot in action against a bot that takes completely random moves."
   ]
  },
  {
   "cell_type": "code",
   "execution_count": null,
   "metadata": {},
   "outputs": [],
   "source": [
    "env = make(\"halite\", debug=True)\n",
    "env.run([\"nullbot.py\", \"random\"])\n",
    "env.render(mode=\"ipython\", width=800, height=600)"
   ]
  },
  {
   "cell_type": "markdown",
   "metadata": {},
   "source": [
    "Here is a slightly better bot: the ships always move south, unless there is more than 100 halite in the current cell."
   ]
  },
  {
   "cell_type": "code",
   "execution_count": null,
   "metadata": {},
   "outputs": [],
   "source": [
    "%%writefile southbot.py\n",
    "from kaggle_environments.envs.halite.helpers import *\n",
    "# Returns the commands we send to our ships and shipyards\n",
    "def agent(obs, config):\n",
    "    size = config.size\n",
    "    board = Board(obs, config)\n",
    "    me = board.current_player\n",
    "    \n",
    "    for ship in me.ships:\n",
    "        if ship.cell.halite > 100:\n",
    "            ship.next_action = None\n",
    "        else:\n",
    "            ship.next_action = ShipAction.SOUTH\n",
    "                \n",
    "    return me.next_actions"
   ]
  },
  {
   "cell_type": "markdown",
   "metadata": {},
   "source": [
    "Let's run two of these bots against each other:"
   ]
  },
  {
   "cell_type": "code",
   "execution_count": null,
   "metadata": {},
   "outputs": [],
   "source": [
    "env = make(\"halite\", debug=True)\n",
    "env.run([\"southbot.py\", \"southbot.py\"])\n",
    "env.render(mode=\"ipython\", width=800, height=600)"
   ]
  },
  {
   "cell_type": "markdown",
   "metadata": {},
   "source": [
    "Now let's create a shipyard, which will be used to spawn ships every second turn:"
   ]
  },
  {
   "cell_type": "code",
   "execution_count": null,
   "metadata": {},
   "outputs": [],
   "source": [
    "%%writefile spawnbot.py\n",
    "from kaggle_environments.envs.halite.helpers import *\n",
    "from random import choice\n",
    "\n",
    "# Returns the commands we send to our ships and shipyards\n",
    "def agent(obs, config):\n",
    "    \n",
    "    size = config.size\n",
    "    board = Board(obs, config)\n",
    "    me = board.current_player\n",
    "    directions = [ShipAction.NORTH, ShipAction.SOUTH, ShipAction.EAST, ShipAction.WEST]\n",
    "    \n",
    "    if len(me.shipyards) == 0 and len(me.ships) > 0:\n",
    "        me.ships[0].next_action = ShipAction.CONVERT\n",
    "    \n",
    "    if board.step % 2 == 0 and len(me.shipyards) > 0 and me.shipyards[0].cell.ship == None:\n",
    "        me.shipyards[0].next_action = ShipyardAction.SPAWN\n",
    "\n",
    "    for ship in me.ships:\n",
    "        if ship.next_action == None:\n",
    "            if ship.cell.halite > 100:\n",
    "                ship.next_action = None\n",
    "            elif ship.cell.south.ship == None:\n",
    "                ship.next_action = ShipAction.SOUTH\n",
    "                \n",
    "    return me.next_actions"
   ]
  },
  {
   "cell_type": "code",
   "execution_count": null,
   "metadata": {},
   "outputs": [],
   "source": [
    "env = make(\"halite\", debug=True)\n",
    "env.run([\"spawnbot.py\", \"spawnbot.py\"])\n",
    "env.render(mode=\"ipython\", width=800, height=600)"
   ]
  },
  {
   "cell_type": "code",
   "execution_count": null,
   "metadata": {},
   "outputs": [],
   "source": []
  }
 ],
 "metadata": {
  "kernelspec": {
   "display_name": "Python 3",
   "language": "python",
   "name": "python3"
  },
  "language_info": {
   "codemirror_mode": {
    "name": "ipython",
    "version": 3
   },
   "file_extension": ".py",
   "mimetype": "text/x-python",
   "name": "python",
   "nbconvert_exporter": "python",
   "pygments_lexer": "ipython3",
   "version": "3.7.3"
  }
 },
 "nbformat": 4,
 "nbformat_minor": 4
}
