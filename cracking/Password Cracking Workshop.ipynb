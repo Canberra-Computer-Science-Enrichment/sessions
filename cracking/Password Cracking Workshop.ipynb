{
 "cells": [
  {
   "cell_type": "markdown",
   "metadata": {},
   "source": [
    "# Password cracking\n",
    "\n",
    "In this day and age, we all use passwords to protect our information and gain access to devices or services. Passwords are very useful, but they also have flaws if not used properly. Over the years, security researchers (and hackers!) have learned that people make really bad and easily guessable passwords, and then reuse them for multiple accounts. This makes life much easier for anyone trying to access your information or steal your stuff!\n",
    "\n",
    "In this workshop, we're going to have a look at just a few of the ways an adversary might try to break your password. By the end you'll know how to make a strong password, and you'll be able to tell your family and friends how to do it too!\n",
    "\n",
    "We'll be doing a little bit of programming in Python, but don't worry if you haven't done any before. Most of the code is already written in this notebook. All you have to do is execute it, which you can do by clicking in the cell with the code and pressing Shift+Enter. **Have a go with the cell below!** \n",
    "\n",
    "(Activities for you to try will be in bold throughout this notebook).\n"
   ]
  },
  {
   "cell_type": "code",
   "execution_count": 1,
   "metadata": {
    "scrolled": true
   },
   "outputs": [
    {
     "name": "stdout",
     "output_type": "stream",
     "text": [
      "Congratulations, you have executed a print statement!\n"
     ]
    }
   ],
   "source": [
    "# The hash at the beginning of this line means it won't be executed. It's called a \"comment\", and is used to explain code.\n",
    "print('Congratulations, you have executed a print statement!')"
   ]
  },
  {
   "cell_type": "markdown",
   "metadata": {},
   "source": [
    "Also execute the cell below- it imports functions from a file called \"passwordcracking\" that we're going to need."
   ]
  },
  {
   "cell_type": "code",
   "execution_count": 3,
   "metadata": {
    "scrolled": true
   },
   "outputs": [],
   "source": [
    "from passwordcracking import *"
   ]
  },
  {
   "cell_type": "markdown",
   "metadata": {},
   "source": [
    "## Cryptographic hash functions\n",
    "\n",
    "Have you ever wondered what happens to your password once you enter it into the program, website or whatever you're trying to access? Obviously, the system wants to somehow check you've entered the correct one. Perhaps it could check it against a stored copy of the correct password. But then your password would need to be saved somewhere, just waiting for someone to find and read it! Worse, if you were logging into something online, this would mean sending your password over the internet making it very easy for an adversary to spot it.\n",
    "\n",
    "A cryptographic hash (or just hash) is a type of function designed to solve this problem. A hash function takes your password and returns a unique, random-looking string. There are many hash functions- one common one is called MD5 (which stands for Message Digest 5). The MD5 hash of the word \"password\" is \n",
    "\n",
    "> MD5(password)=5f4dcc3b5aa765d61d8327deb882cf99\n",
    "\n",
    "You can calculate the hash of the word \"password\" in Python using one of the functions imported from the file above."
   ]
  },
  {
   "cell_type": "code",
   "execution_count": 5,
   "metadata": {},
   "outputs": [
    {
     "data": {
      "text/plain": [
       "'a826176c6495c5116189db91770e20ce'"
      ]
     },
     "execution_count": 5,
     "metadata": {},
     "output_type": "execute_result"
    }
   ],
   "source": [
    "MD5hash(\"passwore\")"
   ]
  },
  {
   "cell_type": "markdown",
   "metadata": {},
   "source": [
    "Hash functions are designed so that if you make any tiny change to the input, the output changes drastically. \n",
    "\n",
    "**Try changing a letter in the red word \"password\" in the code above and see what happens.**\n",
    "\n",
    "A good cryptographic hash function has three important properties:\n",
    "   1. Given a hash, it is extremely difficult to find an input that results in that hash.\n",
    "   2. Given an input, it is extremely difficult to find a second input such that the hashes are the same.\n",
    "   3. It is extremely difficult to find any two inputs that result in the same hash.\n",
    "   \n",
    "The first property is the most important for password uses- it means the hash function is irreversible. (The other two properties are very important for other hash uses, but we won't be looking into them here).\n",
    "\n",
    "So now we have a solution for storing and sending your password in so-called plaintext. Instead, when you set your password, a hash of it is stored instead of the password itself. When you're next trying to log in to your service, the app will calculate your hash, and compare that to the stored one. Great! We're done!\n",
    "\n",
    "... Not quite. Unfortunately, even though the hash is irreversible, that doesn't mean it can't be attacked. Often, an adversary can see the hash, and can use a range of techniques to try to work out the password that created it. We'll now look at some of those methods."
   ]
  },
  {
   "cell_type": "markdown",
   "metadata": {},
   "source": [
    "## Brute force\n",
    "\n",
    "The most obvious way to attack a hash is to cycle through all possible passwords, calculating the hashes until you get a match. This is called a Brute Force attack. \n",
    "\n",
    "We can calculate how many you'd have to check. Suppose your password was actually a four-digit number you used for a combination lock on your bike. There are 10 possibilities for each position, so the total number of options is \n",
    "$$ 10*10*10*10 = 10^{4}=10000, $$\n",
    "\n",
    "specifically, the numbers 0000-9999. This wouldn't take a computer long at all- in fact, a dedicated thief trying a combination each second could steal your bike within a few hours. \n",
    "\n",
    "We can do this calculation in Python. The arithmetic symbols are:\n",
    "\n",
    "   * Addition and subtraction are exactly as expected e.g. `1+1`, `5-3`\n",
    "   * Multiplication uses an asterix e.g. `4*5`\n",
    "   * Division uses a forward slash e.g. `20/4`\n",
    "   * Exponentiation uses double asterix e.g. `2**3`\n",
    "   * Brackets work as expected e.g. `5*(1+3)`"
   ]
  },
  {
   "cell_type": "code",
   "execution_count": null,
   "metadata": {},
   "outputs": [],
   "source": [
    "# Code to calculate the bike lock problem. \n",
    "Combinations=10**4\n",
    "CombsPerSecond=1\n",
    "SecsPerMin=60\n",
    "MinPerHr=60\n",
    "\n",
    "NumHrs= Combinations/(CombsPerSecond*SecsPerMin*MinPerHr)\n",
    "\n",
    "print('The number of combinations is', Combinations) \n",
    "print('At one combination each second, it would take',NumHrs, 'hours to break')  "
   ]
  },
  {
   "cell_type": "markdown",
   "metadata": {},
   "source": [
    "Fortunately, for our passwords we can use many more characters and make it much longer. \n",
    "\n",
    "Suppose each character of your password could be any letter (uppercase or lowercase), number, or special character that appears on the number keys. That's 72 options for each character. Suppose also that your password was 11 letters long. **In the cell below, calculate how many different passwords there could be. Show that if a computer could calculate a billion ($10^9$) hashes a second, it would take more than 8000 years to break.** That would test the patience of any hacker!"
   ]
  },
  {
   "cell_type": "code",
   "execution_count": 11,
   "metadata": {},
   "outputs": [
    {
     "name": "stdout",
     "output_type": "stream",
     "text": [
      "The number of combinations is 269561249468963094528\n",
      "At one combination each second, it would take 8547.731147544491 years to break\n"
     ]
    }
   ],
   "source": [
    "# Fill in the blanks below to solve the 11 character password problem.\n",
    "Combinations=72**11\n",
    "CombsPerSecond=1e9\n",
    "SecsPerMin=60\n",
    "MinsPerHr=60\n",
    "HrsPerDay=24\n",
    "DaysPerYear=365\n",
    "CombsPerYear=CombsPerSecond*SecsPerMin*MinsPerHr*HrsPerDay*DaysPerYear\n",
    "\n",
    "NumYrs=Combinations/CombsPerYear\n",
    "\n",
    "print('The number of combinations is', Combinations) \n",
    "print('At one combination each second, it would take', NumYrs, 'years to break')"
   ]
  },
  {
   "cell_type": "markdown",
   "metadata": {},
   "source": [
    "## Mask attack\n",
    "\n",
    "A mask attack is a step up from a brute force attack. The \"mask\" allows you to set conditions on the characters you'll test in each of the password character positions. This is useful, because we know about humans and how they design passwords.\n",
    "\n",
    "A very common pattern that people use to create their password is *NameYYYY* where YYYY represents their birth year. We can use a mask to tell the computer to check for upper case letters in the first position, then three lower case letters, then four numbers.\n",
    "\n",
    "We're going to try this using a tool called *hashcat*- a professional password recovery tool used by security experts worldwide. To use hashcat, you need to enter a series of mysterious looking commands, which I'll explain as we go along.\n",
    "\n",
    "To create the mask command in hashcat, you create a string which tells the program what character sets to look for in each position. The built in options are:\n",
    "   * `?l = abcdefghijklmnopqrstuvwxyz`\n",
    "   * `?u = ABCDEFGHIJKLMNOPQRSTUVWXYZ`\n",
    "   * `?d = 0123456789`\n",
    "   * `?h = 0123456789abcdef`\n",
    "   * `?H = 0123456789ABCDEF`\n",
    "   * `?s = «space»!\"#$%&'()*+,-./:;<=>?@[\\]^_`{|}~\n",
    "   * `?a = ?l?u?d?s`\n",
    "   * `?b = 0x00 - 0xff`\n",
    "\n",
    "So for example, if you knew you were looking for a PIN of length 4, the command you would enter is `?d?d?d?d`. If you knew you were looking for a five letter name starting with a capital, then a year, you'd enter `?u?l?l?l?d?d?d?d`.\n",
    "\n",
    "Let's see this in action."
   ]
  },
  {
   "cell_type": "code",
   "execution_count": 13,
   "metadata": {},
   "outputs": [
    {
     "ename": "CalledProcessError",
     "evalue": "Command '['hashcat', '-a', '3', '-m', '0', 'e82c4b19b8151ddc25d4d93baf7b908f', '--show']' returned non-zero exit status 255.",
     "output_type": "error",
     "traceback": [
      "\u001b[0;31m---------------------------------------------------------------------------\u001b[0m",
      "\u001b[0;31mCalledProcessError\u001b[0m                        Traceback (most recent call last)",
      "\u001b[0;32m<ipython-input-13-79df1bfa4c6d>\u001b[0m in \u001b[0;36m<module>\u001b[0;34m\u001b[0m\n\u001b[1;32m      3\u001b[0m \u001b[0mMASK\u001b[0m\u001b[0;34m=\u001b[0m\u001b[0;34m\"?d?d?d?d\"\u001b[0m\u001b[0;34m\u001b[0m\u001b[0;34m\u001b[0m\u001b[0m\n\u001b[1;32m      4\u001b[0m \u001b[0;34m\u001b[0m\u001b[0m\n\u001b[0;32m----> 5\u001b[0;31m \u001b[0mMaskAttack\u001b[0m\u001b[0;34m(\u001b[0m\u001b[0mHASH\u001b[0m\u001b[0;34m,\u001b[0m\u001b[0mMASK\u001b[0m\u001b[0;34m)\u001b[0m\u001b[0;34m\u001b[0m\u001b[0;34m\u001b[0m\u001b[0m\n\u001b[0m",
      "\u001b[0;32m/mnt/c/git/ccse/cracking/passwordcracking.py\u001b[0m in \u001b[0;36mMaskAttack\u001b[0;34m(hashstring, mask, customset)\u001b[0m\n\u001b[1;32m     30\u001b[0m         \u001b[0msubprocess\u001b[0m\u001b[0;34m.\u001b[0m\u001b[0mrun\u001b[0m\u001b[0;34m(\u001b[0m\u001b[0;34m[\u001b[0m\u001b[0;34m'hashcat'\u001b[0m\u001b[0;34m,\u001b[0m \u001b[0;34m'-a'\u001b[0m\u001b[0;34m,\u001b[0m \u001b[0;34m'3'\u001b[0m\u001b[0;34m,\u001b[0m \u001b[0;34m'-m'\u001b[0m\u001b[0;34m,\u001b[0m \u001b[0;34m'0'\u001b[0m\u001b[0;34m,\u001b[0m \u001b[0mhashstring\u001b[0m\u001b[0;34m,\u001b[0m \u001b[0mmask\u001b[0m\u001b[0;34m]\u001b[0m\u001b[0;34m,\u001b[0m \u001b[0mshell\u001b[0m\u001b[0;34m=\u001b[0m\u001b[0;32mTrue\u001b[0m\u001b[0;34m)\u001b[0m\u001b[0;34m\u001b[0m\u001b[0;34m\u001b[0m\u001b[0m\n\u001b[1;32m     31\u001b[0m \u001b[0;34m\u001b[0m\u001b[0m\n\u001b[0;32m---> 32\u001b[0;31m     \u001b[0ms\u001b[0m\u001b[0;34m=\u001b[0m\u001b[0msubprocess\u001b[0m\u001b[0;34m.\u001b[0m\u001b[0mcheck_output\u001b[0m\u001b[0;34m(\u001b[0m\u001b[0;34m[\u001b[0m\u001b[0;34m'hashcat'\u001b[0m\u001b[0;34m,\u001b[0m \u001b[0;34m'-a'\u001b[0m\u001b[0;34m,\u001b[0m \u001b[0;34m'3'\u001b[0m\u001b[0;34m,\u001b[0m \u001b[0;34m'-m'\u001b[0m\u001b[0;34m,\u001b[0m \u001b[0;34m'0'\u001b[0m\u001b[0;34m,\u001b[0m \u001b[0mhashstring\u001b[0m\u001b[0;34m,\u001b[0m \u001b[0;34m'--show'\u001b[0m\u001b[0;34m]\u001b[0m\u001b[0;34m,\u001b[0m \u001b[0mshell\u001b[0m\u001b[0;34m=\u001b[0m\u001b[0;32mTrue\u001b[0m\u001b[0;34m)\u001b[0m\u001b[0;34m\u001b[0m\u001b[0;34m\u001b[0m\u001b[0m\n\u001b[0m\u001b[1;32m     33\u001b[0m     \u001b[0mout\u001b[0m\u001b[0;34m=\u001b[0m\u001b[0ms\u001b[0m\u001b[0;34m.\u001b[0m\u001b[0mdecode\u001b[0m\u001b[0;34m(\u001b[0m\u001b[0;34m\"ascii\"\u001b[0m\u001b[0;34m)\u001b[0m\u001b[0;34m[\u001b[0m\u001b[0;34m:\u001b[0m\u001b[0;34m-\u001b[0m\u001b[0;36m2\u001b[0m\u001b[0;34m]\u001b[0m\u001b[0;34m.\u001b[0m\u001b[0msplit\u001b[0m\u001b[0;34m(\u001b[0m\u001b[0;34m':'\u001b[0m\u001b[0;34m)\u001b[0m\u001b[0;34m\u001b[0m\u001b[0;34m\u001b[0m\u001b[0m\n\u001b[1;32m     34\u001b[0m     \u001b[0mprint\u001b[0m\u001b[0;34m(\u001b[0m\u001b[0;34m'The password for hash '\u001b[0m\u001b[0;34m,\u001b[0m\u001b[0mout\u001b[0m\u001b[0;34m[\u001b[0m\u001b[0;36m0\u001b[0m\u001b[0;34m]\u001b[0m\u001b[0;34m,\u001b[0m\u001b[0;34m' is '\u001b[0m\u001b[0;34m,\u001b[0m\u001b[0mout\u001b[0m\u001b[0;34m[\u001b[0m\u001b[0;36m1\u001b[0m\u001b[0;34m]\u001b[0m\u001b[0;34m)\u001b[0m\u001b[0;34m\u001b[0m\u001b[0;34m\u001b[0m\u001b[0m\n",
      "\u001b[0;32m~/anaconda3/lib/python3.7/subprocess.py\u001b[0m in \u001b[0;36mcheck_output\u001b[0;34m(timeout, *popenargs, **kwargs)\u001b[0m\n\u001b[1;32m    409\u001b[0m \u001b[0;34m\u001b[0m\u001b[0m\n\u001b[1;32m    410\u001b[0m     return run(*popenargs, stdout=PIPE, timeout=timeout, check=True,\n\u001b[0;32m--> 411\u001b[0;31m                **kwargs).stdout\n\u001b[0m\u001b[1;32m    412\u001b[0m \u001b[0;34m\u001b[0m\u001b[0m\n\u001b[1;32m    413\u001b[0m \u001b[0;34m\u001b[0m\u001b[0m\n",
      "\u001b[0;32m~/anaconda3/lib/python3.7/subprocess.py\u001b[0m in \u001b[0;36mrun\u001b[0;34m(input, capture_output, timeout, check, *popenargs, **kwargs)\u001b[0m\n\u001b[1;32m    510\u001b[0m         \u001b[0;32mif\u001b[0m \u001b[0mcheck\u001b[0m \u001b[0;32mand\u001b[0m \u001b[0mretcode\u001b[0m\u001b[0;34m:\u001b[0m\u001b[0;34m\u001b[0m\u001b[0;34m\u001b[0m\u001b[0m\n\u001b[1;32m    511\u001b[0m             raise CalledProcessError(retcode, process.args,\n\u001b[0;32m--> 512\u001b[0;31m                                      output=stdout, stderr=stderr)\n\u001b[0m\u001b[1;32m    513\u001b[0m     \u001b[0;32mreturn\u001b[0m \u001b[0mCompletedProcess\u001b[0m\u001b[0;34m(\u001b[0m\u001b[0mprocess\u001b[0m\u001b[0;34m.\u001b[0m\u001b[0margs\u001b[0m\u001b[0;34m,\u001b[0m \u001b[0mretcode\u001b[0m\u001b[0;34m,\u001b[0m \u001b[0mstdout\u001b[0m\u001b[0;34m,\u001b[0m \u001b[0mstderr\u001b[0m\u001b[0;34m)\u001b[0m\u001b[0;34m\u001b[0m\u001b[0;34m\u001b[0m\u001b[0m\n\u001b[1;32m    514\u001b[0m \u001b[0;34m\u001b[0m\u001b[0m\n",
      "\u001b[0;31mCalledProcessError\u001b[0m: Command '['hashcat', '-a', '3', '-m', '0', 'e82c4b19b8151ddc25d4d93baf7b908f', '--show']' returned non-zero exit status 255."
     ]
    }
   ],
   "source": [
    "# recovering a PIN \n",
    "HASH=\"e82c4b19b8151ddc25d4d93baf7b908f\"\n",
    "MASK=\"?d?d?d?d\"\n",
    "\n",
    "MaskAttack(HASH,MASK)"
   ]
  },
  {
   "cell_type": "code",
   "execution_count": null,
   "metadata": {},
   "outputs": [],
   "source": [
    "# recovering a five letter name and date (NameYYYY)\n",
    "\n",
    "HASH=\"42f31227dbe851ff9a1a74f254d4a5f3\"\n",
    "MASK=\"?u?l?l?l?l?d?d?d?d\"\n",
    "\n",
    "MaskAttack(HASH,MASK)"
   ]
  },
  {
   "cell_type": "markdown",
   "metadata": {},
   "source": [
    "Hashcat also allows you to create a custom character set. For example, if you know the password is entirely made up of lowercase OR digits, you can define a character set called 1 (you can have up to 4) by adding in the command `?l?d`, and then call it using `?1` just the same as the default character sets."
   ]
  },
  {
   "cell_type": "code",
   "execution_count": null,
   "metadata": {
    "scrolled": true
   },
   "outputs": [],
   "source": [
    "# recover a 4 character password where each character is either a lowercase letter or a digit \n",
    "HASH='f2e49af795161e14acf9d9245473a368'\n",
    "CUSTOMSET='?l?d' \n",
    "MASK='?1?1?1?1'\n",
    "\n",
    "MaskAttack(HASH,MASK,CUSTOMSET)"
   ]
  },
  {
   "cell_type": "markdown",
   "metadata": {},
   "source": [
    "**Now it's your turn. Try to break the following MD5 hashes using a mask attack.** You can copy the hashcat commands from above, and then insert the new hash and write your own mask and/ or custom character set.\n",
    "   * `2d3c7cd7e9224d7100570660d4530455` given it's a 6 digit PIN\n",
    "   * `0b01256584505412f939a973304fdd87` given it's a four letter name and birth year \n",
    "   * `a1e22f0fbe6c32997616af6018f8dcd3` given it's five letter name and birth year, but the user likes to sometimes replace letters of their name with special characters."
   ]
  },
  {
   "cell_type": "code",
   "execution_count": null,
   "metadata": {},
   "outputs": [],
   "source": [
    "# Exercise\n",
    "# write a mask for this hash, given it's a 6 digit PIN\n",
    "HASH= '2d3c7cd7e9224d7100570660d4530455'\n",
    "MASK=\n",
    "\n",
    "MaskAttack(HASH,MASK)"
   ]
  },
  {
   "cell_type": "code",
   "execution_count": null,
   "metadata": {},
   "outputs": [],
   "source": [
    "# Exercise\n",
    "# write a mask for this hash, given it's a 4 letter name and a birth year\n",
    "HASH='0b01256584505412f939a973304fdd87'\n",
    "MASK=\n",
    "\n",
    "MaskAttack(HASH,MASK)"
   ]
  },
  {
   "cell_type": "code",
   "execution_count": null,
   "metadata": {},
   "outputs": [],
   "source": [
    "#Exercise\n",
    "#write a mask for this hash given it's a 5 letter name and birth year, and the user likes to replace letters with special chars\n",
    "HASH='a1e22f0fbe6c32997616af6018f8dcd3'\n",
    "CUSTOMSET=\n",
    "MASK=\n",
    "\n",
    "MaskAttack(HASH,MASK,CUSTOMSET)"
   ]
  },
  {
   "cell_type": "markdown",
   "metadata": {},
   "source": [
    "There are many more options that can be checked using a mask attack, but for now we're going to move on."
   ]
  },
  {
   "cell_type": "markdown",
   "metadata": {},
   "source": [
    "## Dictionary attacks\n",
    "\n",
    "You probably noticed that the mask attacks in the last exercise can take a while, even though we had a lot of hints for the form of the password. Another type of attack is a *Dictionary attack*. This type of attack exploits the fact that we know humans tend to be creatures of habit, and they like to use passwords that are easy to remember, for example, English words or their favourite person's name.\n",
    "\n",
    "Wordlists are available all over the internet, although master hashcrackers build their own and guard them jealously. We're using one that contains about 10,000 of the top passwords used in English speaking countries. Here's a look at the first 100 of those passwords."
   ]
  },
  {
   "cell_type": "code",
   "execution_count": 4,
   "metadata": {},
   "outputs": [
    {
     "name": "stdout",
     "output_type": "stream",
     "text": [
      "123456\n",
      "\n",
      "password\n",
      "\n",
      "12345678\n",
      "\n",
      "qwerty\n",
      "\n",
      "123456789\n",
      "\n",
      "12345\n",
      "\n",
      "1234\n",
      "\n",
      "111111\n",
      "\n",
      "1234567\n",
      "\n",
      "dragon\n",
      "\n",
      "123123\n",
      "\n",
      "baseball\n",
      "\n",
      "abc123\n",
      "\n",
      "football\n",
      "\n",
      "monkey\n",
      "\n",
      "letmein\n",
      "\n",
      "696969\n",
      "\n",
      "shadow\n",
      "\n",
      "master\n",
      "\n",
      "666666\n",
      "\n",
      "qwertyuiop\n",
      "\n",
      "123321\n",
      "\n",
      "mustang\n",
      "\n",
      "1234567890\n",
      "\n",
      "michael\n",
      "\n",
      "654321\n",
      "\n",
      "superman\n",
      "\n",
      "1qaz2wsx\n",
      "\n",
      "7777777\n",
      "\n",
      "121212\n",
      "\n",
      "000000\n",
      "\n",
      "qazwsx\n",
      "\n",
      "123qwe\n",
      "\n",
      "killer\n",
      "\n",
      "trustno1\n",
      "\n",
      "jordan\n",
      "\n",
      "jennifer\n",
      "\n",
      "zxcvbnm\n",
      "\n",
      "asdfgh\n",
      "\n",
      "hunter\n",
      "\n",
      "buster\n",
      "\n",
      "soccer\n",
      "\n",
      "harley\n",
      "\n",
      "batman\n",
      "\n",
      "andrew\n",
      "\n",
      "tigger\n",
      "\n",
      "sunshine\n",
      "\n",
      "iloveyou\n",
      "\n",
      "2000\n",
      "\n",
      "charlie\n",
      "\n",
      "robert\n",
      "\n",
      "thomas\n",
      "\n",
      "hockey\n",
      "\n",
      "ranger\n",
      "\n",
      "daniel\n",
      "\n",
      "starwars\n",
      "\n",
      "klaster\n",
      "\n",
      "112233\n",
      "\n",
      "george\n",
      "\n",
      "computer\n",
      "\n",
      "michelle\n",
      "\n",
      "jessica\n",
      "\n",
      "pepper\n",
      "\n",
      "1111\n",
      "\n",
      "zxcvbn\n",
      "\n",
      "555555\n",
      "\n",
      "11111111\n",
      "\n",
      "131313\n",
      "\n",
      "freedom\n",
      "\n",
      "777777\n",
      "\n",
      "pass\n",
      "\n",
      "maggie\n",
      "\n",
      "159753\n",
      "\n",
      "aaaaaa\n",
      "\n",
      "ginger\n",
      "\n",
      "princess\n",
      "\n",
      "joshua\n",
      "\n",
      "cheese\n",
      "\n",
      "amanda\n",
      "\n",
      "summer\n",
      "\n",
      "love\n",
      "\n",
      "ashley\n",
      "\n",
      "6969\n",
      "\n",
      "nicole\n",
      "\n",
      "chelsea\n",
      "\n",
      "biteme\n",
      "\n",
      "matthew\n",
      "\n",
      "access\n",
      "\n",
      "yankees\n",
      "\n",
      "987654321\n",
      "\n",
      "dallas\n",
      "\n",
      "austin\n",
      "\n",
      "thunder\n",
      "\n",
      "taylor\n",
      "\n",
      "matrix\n",
      "\n",
      "william\n",
      "\n",
      "corvette\n",
      "\n",
      "hello\n",
      "\n",
      "martin\n",
      "\n",
      "heather\n",
      "\n"
     ]
    }
   ],
   "source": [
    "top10000=\"%homepath%/Documents/Password_cracking_workshop/top10000\"\n",
    "\n",
    "with open(\"./top10000\") as pwdfile:\n",
    "    for i in range(100):\n",
    "        print(pwdfile.readline())"
   ]
  },
  {
   "cell_type": "markdown",
   "metadata": {},
   "source": [
    "We can perform a dictionary attack using the function `DictAttack` as below."
   ]
  },
  {
   "cell_type": "code",
   "execution_count": 9,
   "metadata": {},
   "outputs": [
    {
     "name": "stdout",
     "output_type": "stream",
     "text": [
      "The password for hash  21232f297a57a5a743894a0e4a801fc3  is  admin\n"
     ]
    },
    {
     "data": {
      "text/plain": [
       "['21232f297a57a5a743894a0e4a801fc3', 'admin']"
      ]
     },
     "execution_count": 9,
     "metadata": {},
     "output_type": "execute_result"
    }
   ],
   "source": [
    "HASH= '21232f297a57a5a743894a0e4a801fc3'\n",
    "DICTFILE='./top10000'\n",
    "\n",
    "DictAttack(HASH,DICTFILE)"
   ]
  },
  {
   "cell_type": "markdown",
   "metadata": {},
   "source": [
    "### Dictionary attack with rules\n",
    "\n",
    "Often, people create more complex passwords by starting with a simple password and modifying it.  For example, some use leetspeak, swapping letters for similar looking numbers and special characters. \n",
    "\n",
    "   * password -> p@ssw0rd\n",
    "\n",
    "Another example is swapping the case for one or more characters in the password.\n",
    "\n",
    "   * password -> PassWord\n",
    "\n",
    "In hashcat this type of transformation is called a ‘rule’.  Hashcat comes with rule files where the details of the transformation are documented.  Hashcat comes with some standard rule files – a couple of the most straight forward are those for leetspeak transformation (‘leetspeak.rule’) and case toggling, such as we’ve seen in the examples above.\n",
    "\n",
    "There are actually a number of case toggling rule files, depending on the number of characters being toggled.\n",
    "\n",
    "For example, ‘toggles1.rule’ case swaps 1 character, while ‘toggles3.rule’ case swaps 3 of the characters."
   ]
  },
  {
   "cell_type": "code",
   "execution_count": 6,
   "metadata": {},
   "outputs": [],
   "source": [
    "# Four of the rules files\n",
    "LEETSPEAK='rules/leetspeak.rule'\n",
    "TOGGLES1='rules/toggles1.rule'\n",
    "TOGGLES2='rules/toggles2.rule'\n",
    "TOGGLES3='rules/toggles3.rule'"
   ]
  },
  {
   "cell_type": "markdown",
   "metadata": {},
   "source": [
    "Let's try to recover the password for the hash `b4247afabe9109b8cb9f04a93fdc565a` using the dictionary file and the leetspeak rule."
   ]
  },
  {
   "cell_type": "code",
   "execution_count": 8,
   "metadata": {},
   "outputs": [
    {
     "ename": "IndexError",
     "evalue": "list index out of range",
     "output_type": "error",
     "traceback": [
      "\u001b[1;31m---------------------------------------------------------------------------\u001b[0m",
      "\u001b[1;31mIndexError\u001b[0m                                Traceback (most recent call last)",
      "\u001b[1;32m<ipython-input-8-fe80a5bce2bd>\u001b[0m in \u001b[0;36m<module>\u001b[1;34m\u001b[0m\n\u001b[0;32m      1\u001b[0m \u001b[0mHASH\u001b[0m\u001b[1;33m=\u001b[0m \u001b[1;34m'b4247afabe9109b8cb9f04a93fdc565a'\u001b[0m\u001b[1;33m\u001b[0m\u001b[1;33m\u001b[0m\u001b[0m\n\u001b[0;32m      2\u001b[0m \u001b[1;33m\u001b[0m\u001b[0m\n\u001b[1;32m----> 3\u001b[1;33m \u001b[0mDictAttack\u001b[0m\u001b[1;33m(\u001b[0m\u001b[0mHASH\u001b[0m\u001b[1;33m,\u001b[0m\u001b[1;34m\"%homepath%/Documents/Password_cracking_workshop/top10000\"\u001b[0m\u001b[1;33m,\u001b[0m\u001b[1;33m[\u001b[0m\u001b[0mLEETSPEAK\u001b[0m\u001b[1;33m]\u001b[0m\u001b[1;33m)\u001b[0m\u001b[1;33m\u001b[0m\u001b[1;33m\u001b[0m\u001b[0m\n\u001b[0m",
      "\u001b[1;32m~\\Documents\\Password_cracking_workshop\\passwordcracking.py\u001b[0m in \u001b[0;36mDictAttack\u001b[1;34m(hashstring, dictfile, rules)\u001b[0m\n\u001b[0;32m     50\u001b[0m     \u001b[0ms\u001b[0m\u001b[1;33m=\u001b[0m\u001b[0msubprocess\u001b[0m\u001b[1;33m.\u001b[0m\u001b[0mcheck_output\u001b[0m\u001b[1;33m(\u001b[0m\u001b[1;33m[\u001b[0m\u001b[1;34m'hashcat'\u001b[0m\u001b[1;33m,\u001b[0m \u001b[1;34m'-a'\u001b[0m\u001b[1;33m,\u001b[0m \u001b[1;34m'3'\u001b[0m\u001b[1;33m,\u001b[0m \u001b[1;34m'-m'\u001b[0m\u001b[1;33m,\u001b[0m \u001b[1;34m'0'\u001b[0m\u001b[1;33m,\u001b[0m \u001b[0mhashstring\u001b[0m\u001b[1;33m,\u001b[0m \u001b[1;34m'--show'\u001b[0m\u001b[1;33m]\u001b[0m\u001b[1;33m,\u001b[0m \u001b[0mshell\u001b[0m\u001b[1;33m=\u001b[0m\u001b[1;32mTrue\u001b[0m\u001b[1;33m)\u001b[0m\u001b[1;33m\u001b[0m\u001b[1;33m\u001b[0m\u001b[0m\n\u001b[0;32m     51\u001b[0m     \u001b[0mout\u001b[0m\u001b[1;33m=\u001b[0m\u001b[0ms\u001b[0m\u001b[1;33m.\u001b[0m\u001b[0mdecode\u001b[0m\u001b[1;33m(\u001b[0m\u001b[1;34m\"ascii\"\u001b[0m\u001b[1;33m)\u001b[0m\u001b[1;33m[\u001b[0m\u001b[1;33m:\u001b[0m\u001b[1;33m-\u001b[0m\u001b[1;36m2\u001b[0m\u001b[1;33m]\u001b[0m\u001b[1;33m.\u001b[0m\u001b[0msplit\u001b[0m\u001b[1;33m(\u001b[0m\u001b[1;34m':'\u001b[0m\u001b[1;33m)\u001b[0m\u001b[1;33m\u001b[0m\u001b[1;33m\u001b[0m\u001b[0m\n\u001b[1;32m---> 52\u001b[1;33m     \u001b[0mprint\u001b[0m\u001b[1;33m(\u001b[0m\u001b[1;34m'The password for hash '\u001b[0m\u001b[1;33m,\u001b[0m\u001b[0mout\u001b[0m\u001b[1;33m[\u001b[0m\u001b[1;36m0\u001b[0m\u001b[1;33m]\u001b[0m\u001b[1;33m,\u001b[0m\u001b[1;34m' is '\u001b[0m\u001b[1;33m,\u001b[0m\u001b[0mout\u001b[0m\u001b[1;33m[\u001b[0m\u001b[1;36m1\u001b[0m\u001b[1;33m]\u001b[0m\u001b[1;33m)\u001b[0m\u001b[1;33m\u001b[0m\u001b[1;33m\u001b[0m\u001b[0m\n\u001b[0m\u001b[0;32m     53\u001b[0m \u001b[1;33m\u001b[0m\u001b[0m\n\u001b[0;32m     54\u001b[0m     \u001b[1;32mreturn\u001b[0m \u001b[0mout\u001b[0m\u001b[1;33m\u001b[0m\u001b[1;33m\u001b[0m\u001b[0m\n",
      "\u001b[1;31mIndexError\u001b[0m: list index out of range"
     ]
    }
   ],
   "source": [
    "HASH= 'b4247afabe9109b8cb9f04a93fdc565a'\n",
    "\n",
    "DictAttack(HASH,,[LEETSPEAK])"
   ]
  },
  {
   "cell_type": "markdown",
   "metadata": {},
   "source": [
    "You can also combine rule files to create more complicated passwords.  The following password contains both leetspeak and a single case swap.\n",
    "\n",
    "   * Password -> p@ssWord\n",
    "\n",
    "Your turn- **recover the password for the hash `42d679d562e0c108ab3c5fbb7bda4064` using the dictionary file and the leetspeak and toggles1 rules.** You'll need to put the rules in a list like `[RULE1, RULE2]`."
   ]
  },
  {
   "cell_type": "code",
   "execution_count": null,
   "metadata": {},
   "outputs": [],
   "source": [
    "# Exercise\n",
    "# recover the password for the hash, using the dictionary file and the leetspeak and toggles1 rules\n",
    "HASH= '42d679d562e0c108ab3c5fbb7bda4064'\n",
    "\n",
    "DictAttack(HASH,DICTFILE,[])"
   ]
  },
  {
   "cell_type": "markdown",
   "metadata": {},
   "source": [
    "# Challenge\n",
    "\n",
    "**Using all the tricks you've learned, recover as many passwords you can of the following list of hashes.** Keep track of the ones you've recovered in the cell below.\n",
    "\n",
    "   * `93cfed079004d4370010cb17bda1daab`\n",
    "   * `e7e85de09cfe441003ced1a82bb611a6`\n",
    "   * `f01e0d7992a3b7748538d02291b0beae`\n",
    "   * `e31e83bdffa9bfb546175af6d6da3e4b`\n",
    "   * `9bc3d40134996aba6d821fa60bf1504a`\n",
    "   * `4a4f687f8864cfb111fb2c7c54bbe27b`\n",
    "   * `c9754fb19e1371b8cef0924113146f5e`\n",
    "   * `62c8ad0a15d9d1ca38d5dee762a16e01`\n",
    "   * `40be4e59b9a2a2b5dffb918c0e86b3d7`\n",
    "   * `beb8e16d1f4dcdf54297880e2bedddc9`\n",
    "   * `09117a8f8691865023cb388284a1a0e9`\n",
    "   * `e91a81cacf6ba680079a9fbfd32893eb`\n",
    "   * `b0baee9d279d34fa1dfd71aadb908c3f`\n",
    "   * `531537102901716809ed185e76290202`\n",
    "   * `7a75a532aaab234ad4bd33ed67e67242`\n",
    "   * `1e0bb5b62610a9e76c3053bc2aceafd2`\n",
    "   * `d39742395ddcc548c21ee1dadd0130f0`\n",
    "   * `b7e52ac21a810fe8132996c5226b62fa`\n",
    "   * `4121b8c8da6e0dcf056ffe9fc15b74b9`\n",
    "   \n",
    "These passwords are known to be one of:\n",
    "\n",
    "    1)      Commonly used password (try your dictionary file!)\n",
    "\n",
    "    2)      Common password with a leetspeak transformation\n",
    "\n",
    "    3)      Common password with two characters case swapped (toggled)\n",
    "\n",
    "    4)      Passwords consisting of all upper case characters, 5 characters long (e.g. ‘ABCDE’)\n",
    "\n",
    "    5)      Passwords consisting of all special characters, between 2 and 5 characters long (e.g. ‘%#@’)\n",
    "\n",
    "    6)      Common passwords with 1 character toggled and a leetspeak transformation"
   ]
  },
  {
   "cell_type": "code",
   "execution_count": null,
   "metadata": {},
   "outputs": [],
   "source": [
    "# Enter your code here\n"
   ]
  },
  {
   "cell_type": "code",
   "execution_count": null,
   "metadata": {},
   "outputs": [],
   "source": [
    "# print your solved hashes \n",
    "PrintSolved()"
   ]
  },
  {
   "cell_type": "markdown",
   "metadata": {},
   "source": [
    "## Conclusion\n",
    "\n",
    "You have now tried just a few of the ways a hacker might try to break your password. Through these activities, you've learned that when it comes to passwords\n",
    "   * longer is better\n",
    "   * predictable patterns are easy to guess\n",
    "   * single words are easy to guess too, even if you use funky characters.\n",
    "\n",
    "Some hackers are very clever, and use even more sophisticated techniques than we've seen here. So how do you make a secure password? \n",
    "\n",
    "ASD, through the Australian Cyber Security Centre, provides password advice on the website \n",
    "\n",
    "https://www.staysmartonline.gov.au/\n",
    "\n",
    "The advice includes\n",
    "  * Think of a passphrase that is made up of at least four words, including at least 13 characters, for example 'horsecupstarshoe'. Make it meaningful to you so it is easy to remember.\n",
    "  * Install a password manager on your computer, smartphone or tablet. It will generate and remember secure passwords for you and some password managers will sync across your devices.\n",
    "  * Use two-factor authentication.\n",
    "  * Don't use the same password for multiple services or websites.\n",
    "  * Use password tiers- unique and complex passwords for high risk accounts such as online shopping or social media, and less complex ones for low risk ones such as newsletters.\n",
    "  * Never give your password to anyone, ever!\n",
    "  \n",
    "For more tips for how to create strong passwords and stay safe online, check out the website.\n",
    "  \n",
    "  "
   ]
  },
  {
   "cell_type": "code",
   "execution_count": null,
   "metadata": {},
   "outputs": [],
   "source": [
    "EmptyPot()"
   ]
  }
 ],
 "metadata": {
  "kernelspec": {
   "display_name": "Python 3",
   "language": "python",
   "name": "python3"
  },
  "language_info": {
   "codemirror_mode": {
    "name": "ipython",
    "version": 3
   },
   "file_extension": ".py",
   "mimetype": "text/x-python",
   "name": "python",
   "nbconvert_exporter": "python",
   "pygments_lexer": "ipython3",
   "version": "3.7.6"
  }
 },
 "nbformat": 4,
 "nbformat_minor": 2
}
