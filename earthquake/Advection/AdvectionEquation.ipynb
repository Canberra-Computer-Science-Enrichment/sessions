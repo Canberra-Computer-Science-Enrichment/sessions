{
 "cells": [
  {
   "cell_type": "markdown",
   "metadata": {},
   "source": [
    "<div style='background-image: url(\"../../share/images/header.svg\") ; padding: 0px ; background-size: cover ; border-radius: 5px ; height: 250px'>\n",
    "    <div style=\"float: right ; margin: 50px ; padding: 20px ; background: rgba(255 , 255 , 255 , 0.7) ; width: 50% ; height: 150px\">\n",
    "        <div style=\"position: relative ; top: 50% ; transform: translatey(-50%)\">\n",
    "            <div style=\"font-size: xx-large ; font-weight: 900 ; color: rgba(0 , 0 , 0 , 0.8) ; line-height: 100%\">Computational Math</div>\n",
    "            <div style=\"font-size: large ; padding-top: 20px ; color: rgba(0 , 0 , 0 , 0.5)\"> Finite difference approximation of the scalar wave equation </div>\n",
    "        </div>\n",
    "    </div>\n",
    "</div>"
   ]
  },
  {
   "cell_type": "markdown",
   "metadata": {},
   "source": [
    "\n",
    "---\n",
    "\n",
    "This notebook is based on  finite difference methods  \n",
    "\n",
    "\n",
    "##### Authors:\n",
    "* Kenneth Duru"
   ]
  },
  {
   "cell_type": "markdown",
   "metadata": {},
   "source": [
    "## Introduction ##\n",
    "\n",
    "Consider the scalar advection equation in 1D \n",
    "\n",
    "\\begin{align}\n",
    "\\frac{\\partial v(x,t)}{\\partial t} + c \\frac{\\partial v(x,t)}{\\partial x}  = 0. \n",
    "\\end{align}\n",
    "\n",
    "Here, $c \\equiv 1$ is the velocity at which the quantity of interest $v(x,t)$ is advected through the domain $x \\in [0, L]$. \n",
    "To keep the problem simple, we use \n",
    "\n",
    "\\begin{equation}\n",
    "v(x,0)  = f(x)=\\exp(-\\left(x-x_0\\right)^2/\\delta^2).\n",
    "\\end{equation}\n",
    "\n",
    "Dirichlete boundary conditions $v(0,t) = g(t)\\equiv 0$.\n",
    " \n",
    " \n",
    "Our goal is to construct finite difference approximation of the IBVP"
   ]
  },
  {
   "cell_type": "markdown",
   "metadata": {},
   "source": [
    "**** Steps ****\n",
    "\n",
    "1) Discretise the domain\n",
    "\n",
    "2) Discretise the PDE (in space).\n",
    "\n",
    "3) Discretise the boundary condition\n",
    "\n",
    "4) Integrate in time (using Euler or RK2)\n",
    "\n",
    "*** Details will be provided in class ***"
   ]
  },
  {
   "cell_type": "code",
   "execution_count": null,
   "metadata": {
    "code_folding": [
     0
    ]
   },
   "outputs": [],
   "source": [
    "# Parameters initialization and plotting the simulation\n",
    "# Import necessary routines\n",
    "import numpy as np\n",
    "import matplotlib.pyplot as plt\n",
    "import timeit\n",
    "import utils\n",
    "\n",
    "plt.switch_backend(\"nbagg\")           # plots within this notebook"
   ]
  },
  {
   "cell_type": "code",
   "execution_count": null,
   "metadata": {},
   "outputs": [],
   "source": [
    "# Implement the finite difference approximation for the first derivatives du/dx\n",
    "\n",
    "def d_x(u, nx, dx, order):\n",
    "    # finite difference approximation for the first derivatives du/dx\n",
    "    \n",
    "    # initialise the derivative vector\n",
    "    ux = 0*u\n",
    "    # second order accurate case\n",
    "    if order==2:\n",
    "        \n",
    "        \n",
    "            \n",
    "    return ux\n"
   ]
  },
  {
   "cell_type": "code",
   "execution_count": null,
   "metadata": {},
   "outputs": [],
   "source": [
    "# consider the boundary forcing (Skip for now)\n",
    "def g(t):\n",
    "\n",
    "    import numpy as np\n",
    "    \n",
    "    V = 0.0\n",
    "\n",
    "    if t <= 2.0 and t >= 0.0:\n",
    "        V = (np.sin(np.pi/2 * t)) ** 4\n",
    "        \n",
    "    \n",
    "    return V\n"
   ]
  },
  {
   "cell_type": "code",
   "execution_count": null,
   "metadata": {},
   "outputs": [],
   "source": [
    "# set domain parameters\n",
    "L = 20.0                               # length of the domain (km)\n",
    "c = 1.0                                # wavespeed (m/s)\n",
    "t = 0.0                                # initial time\n",
    "tend = 10                              # final time\n",
    "\n",
    "\n",
    "\n",
    "# set discretisation parameters\n",
    "nx = 101                                # number of gridpoints\n",
    "\n",
    "# discretize the domain into nx equidistant grid points\n",
    "x  =                           # discrete domain\n",
    "dx =                           # spatial step                        \n",
    "\n",
    "order = 2                              # order of accuracy: 2 or 4.    "
   ]
  },
  {
   "cell_type": "code",
   "execution_count": null,
   "metadata": {},
   "outputs": [],
   "source": [
    "# verify accuracy: test against u(x) = x, 1/2x^2.\n",
    "#print(d_x(x, nx, dx, order))"
   ]
  },
  {
   "cell_type": "code",
   "execution_count": null,
   "metadata": {},
   "outputs": [],
   "source": [
    "#Initialize the arrays holding the functions functions\n",
    "x0 = L/4\n",
    "delta = 0.025*L\n",
    "\n",
    "# solution at t = 0\n",
    "u=np.exp(-((x-x0)/delta)**2)     # numerical\n",
    "U=np.exp(-((x-x0)/delta)**2)     # exact\n",
    "norm = np.sqrt(sum(U**2))\n",
    "\n",
    "#u = 0*x\n",
    "#for j in range(nx):\n",
    "#    U[j]=g(t-x[j]/c)                       # exact\n",
    "\n",
    "#norm =1;"
   ]
  },
  {
   "cell_type": "code",
   "execution_count": null,
   "metadata": {},
   "outputs": [],
   "source": [
    "# Initialize animated plot \n",
    "fig1 = plt.figure(figsize=(10,10))\n",
    "ax1 = fig1.add_subplot(2,1,1)\n",
    "line1 = ax1.plot(x, U, 'r', x, u, 'k--', lw=1.5)\n",
    "plt.title('method - %s  order FD'%order, size=16)\n",
    "ax1.legend(('Analytical', 'Numerical'))\n",
    "plt.xlabel('x [km]', size=16)\n",
    "plt.ylabel('amplitude', size=16)\n",
    "\n",
    "\n",
    "# Initialize relative error plot \n",
    "ax2 = fig1.add_subplot(2,1,2)\n",
    "line2 = ax2.plot(x,np.abs(U-u)/norm, 'k--', lw=1.5)\n",
    "plt.title('error', size=16)\n",
    "plt.xlabel('x [km]', size=16)\n",
    "plt.ylabel('relative error', size=16)\n",
    "ax2.set_ylim([10**-5, 1])\n",
    "plt.yscale(\"log\")\n",
    "#plt.yscale(\"log\", nonposx='clip') \n",
    "\n",
    "plt.ion()                                                       # set interective mode\n",
    "plt.show()"
   ]
  },
  {
   "cell_type": "code",
   "execution_count": null,
   "metadata": {},
   "outputs": [],
   "source": [
    "# Time stepping parameters\n",
    "cfl = 0.5                         # CFL number\n",
    "dt = cfl/c*dx                     # Time step\n",
    "nt = int(round(tend/dt))          # number of time steps\n",
    "n = 0                             # counter\n",
    "t=0 \n",
    "method = \"Euler\"\n",
    "#method = \"RK2\"\n",
    "#method = \"RK4\"\n",
    "\n",
    "# for plotting\n",
    "iplot = 10\n"
   ]
  },
  {
   "cell_type": "code",
   "execution_count": null,
   "metadata": {},
   "outputs": [],
   "source": [
    "# Compute the RHS:  -cdu/dx + SAT\n",
    "def rate(u, nx, dx, dt, order, c, t, x):\n",
    "\n",
    "    # set penalty parameter\n",
    "    if order == 2:\n",
    "        tau = 1./(0.5 * dx)\n",
    "    if order == 4:\n",
    "        tau = 1./((17.0 / 48.0) * dx)\n",
    "        \n",
    "    #  compute numerical derivative of u and set rate -cdu/dx\n",
    "    ux = \n",
    "    \n",
    "    \n",
    "    # penalize the boundary term SAT\n",
    "    ux[0] = ux[0]\n",
    "    \n",
    "    return ux"
   ]
  },
  {
   "cell_type": "code",
   "execution_count": null,
   "metadata": {},
   "outputs": [],
   "source": [
    "# initialise timer\n",
    "start = timeit.default_timer()\n",
    "\n",
    "# loop in time\n",
    "for t in utils.drange(0, tend, dt):\n",
    "    n = n+1\n",
    "    \n",
    "    #forward Euler\n",
    "    if method == \"Euler\":\n",
    "        # to be completed by student\n",
    "        \n",
    "    # RK2\n",
    "    if method == \"RK2\":\n",
    "        # to be completed by student\n",
    "        \n",
    "        \n",
    "    \n",
    "    \n",
    "        \n",
    "    \n",
    "    # Exact solution\n",
    "    U=np.exp(-(((x-c*(t+dt)-x0)/delta)**2))\n",
    "    \n",
    "    # Exact solution\n",
    "    #for j in range(nx):\n",
    "    #    U[j]=g(t-x[j]/c) \n",
    "    \n",
    "    if n % iplot == 0: \n",
    "        for l in line1:\n",
    "            l.remove()\n",
    "            del l               \n",
    "        for l in line2:\n",
    "            l.remove()\n",
    "            del l\n",
    "        \n",
    "\n",
    "        # Display lines\n",
    "        line1 = ax1.plot(x, u, '-o',x, U, '-*', lw=1.5)\n",
    "        ax1.legend(iter(line1),('Numerical', 'Exact'))\n",
    "        line2 = ax2.plot(x, np.abs(U-u)/norm, 'k--', lw=1.5)             \n",
    "        #\n",
    "        plt.gcf().canvas.draw()     \n",
    "       \n",
    "plt.ioff()\n",
    "plt.show()"
   ]
  },
  {
   "cell_type": "code",
   "execution_count": null,
   "metadata": {
    "code_folding": [
     16,
     24,
     42,
     47,
     53
    ],
    "scrolled": false
   },
   "outputs": [],
   "source": [
    "# Simulation end time\n",
    "stop = timeit.default_timer()\n",
    "\n",
    "\n",
    "print('total simulation time = ', stop - start, 's')            # print the time required for simulation\n",
    "print('spatial order  of accuracy = ', order)                   # print the polynomial degree used\n",
    "print('number of grid points = ', nx)                           # print the degree of freedom\n",
    "print('uniform spatial step = ', dx, 'km')                      # print the spatial step\n",
    "\n",
    "print('maximum relative error = ', np.max(np.abs(U-u))/np.max(np.abs(U)))             # print the max. relative error\n",
    "print('maximum relative error = ', np.log2(np.max(np.abs(U-u))/np.max(np.abs(U))))    # print the log2 of max. relative error\n",
    "\n",
    "\n",
    "\n"
   ]
  }
 ],
 "metadata": {
  "anaconda-cloud": {},
  "kernelspec": {
   "display_name": "Python 3",
   "language": "python",
   "name": "python3"
  },
  "language_info": {
   "codemirror_mode": {
    "name": "ipython",
    "version": 3
   },
   "file_extension": ".py",
   "mimetype": "text/x-python",
   "name": "python",
   "nbconvert_exporter": "python",
   "pygments_lexer": "ipython3",
   "version": "3.6.9"
  }
 },
 "nbformat": 4,
 "nbformat_minor": 1
}
